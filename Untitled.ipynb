{
 "cells": [
  {
   "cell_type": "code",
   "execution_count": 2,
   "metadata": {},
   "outputs": [
    {
     "name": "stdout",
     "output_type": "stream",
     "text": [
      "Collecting notebook-as-pdf\n",
      "  Downloading https://files.pythonhosted.org/packages/be/cb/da4f6a51807d3bfd58ba0dbdd705adf27f16b522375a54ae7da87323a56f/notebook_as_pdf-0.1.0-py3-none-any.whl\n",
      "Collecting pikepdf (from notebook-as-pdf)\n",
      "  Downloading https://files.pythonhosted.org/packages/a8/d7/eedaf4525b7d85b9115be9eaf24cc4f11e6b4c599b83a1cb9608cd8660cd/pikepdf-1.11.1-cp37-cp37m-win_amd64.whl (1.0MB)\n",
      "Requirement already satisfied: nbconvert in f:\\program_files\\lib\\site-packages (from notebook-as-pdf) (5.6.0)\n",
      "Collecting pyppeteer (from notebook-as-pdf)\n",
      "  Downloading https://files.pythonhosted.org/packages/b0/16/a5e8d617994cac605f972523bb25f12e3ff9c30baee29b4a9c50467229d9/pyppeteer-0.0.25.tar.gz (1.2MB)\n",
      "Requirement already satisfied: lxml>=4.0 in f:\\program_files\\lib\\site-packages (from pikepdf->notebook-as-pdf) (4.4.1)\n",
      "Requirement already satisfied: nbformat>=4.4 in f:\\program_files\\lib\\site-packages (from nbconvert->notebook-as-pdf) (4.4.0)\n",
      "Requirement already satisfied: testpath in f:\\program_files\\lib\\site-packages (from nbconvert->notebook-as-pdf) (0.4.2)\n",
      "Requirement already satisfied: mistune<2,>=0.8.1 in f:\\program_files\\lib\\site-packages (from nbconvert->notebook-as-pdf) (0.8.4)\n",
      "Requirement already satisfied: jupyter-core in f:\\program_files\\lib\\site-packages (from nbconvert->notebook-as-pdf) (4.5.0)\n",
      "Requirement already satisfied: defusedxml in f:\\program_files\\lib\\site-packages (from nbconvert->notebook-as-pdf) (0.6.0)\n",
      "Requirement already satisfied: entrypoints>=0.2.2 in f:\\program_files\\lib\\site-packages (from nbconvert->notebook-as-pdf) (0.3)\n",
      "Requirement already satisfied: bleach in f:\\program_files\\lib\\site-packages (from nbconvert->notebook-as-pdf) (3.1.0)\n",
      "Requirement already satisfied: traitlets>=4.2 in f:\\program_files\\lib\\site-packages (from nbconvert->notebook-as-pdf) (4.3.3)\n",
      "Requirement already satisfied: pygments in f:\\program_files\\lib\\site-packages (from nbconvert->notebook-as-pdf) (2.4.2)\n",
      "Requirement already satisfied: jinja2>=2.4 in f:\\program_files\\lib\\site-packages (from nbconvert->notebook-as-pdf) (2.10.3)\n",
      "Requirement already satisfied: pandocfilters>=1.4.1 in f:\\program_files\\lib\\site-packages (from nbconvert->notebook-as-pdf) (1.4.2)\n",
      "Collecting pyee (from pyppeteer->notebook-as-pdf)\n",
      "  Downloading https://files.pythonhosted.org/packages/d4/ce/a9a45667cdffbda2af63baa3ad1adca2feb80abf307d0dc91f9dfdfb3ec3/pyee-7.0.1-py2.py3-none-any.whl\n",
      "Collecting websockets (from pyppeteer->notebook-as-pdf)\n",
      "  Downloading https://files.pythonhosted.org/packages/56/01/1f61610f1eb7f9a8e8fdc607a89dd2fae778e6e43290d7e153ebe724adb5/websockets-8.1-cp37-cp37m-win_amd64.whl (66kB)\n",
      "Collecting appdirs (from pyppeteer->notebook-as-pdf)\n",
      "  Downloading https://files.pythonhosted.org/packages/56/eb/810e700ed1349edde4cbdc1b2a21e28cdf115f9faf263f6bbf8447c1abf3/appdirs-1.4.3-py2.py3-none-any.whl\n",
      "Requirement already satisfied: urllib3 in f:\\program_files\\lib\\site-packages (from pyppeteer->notebook-as-pdf) (1.24.2)\n",
      "Requirement already satisfied: tqdm in f:\\program_files\\lib\\site-packages (from pyppeteer->notebook-as-pdf) (4.36.1)\n",
      "Requirement already satisfied: jsonschema!=2.5.0,>=2.4 in f:\\program_files\\lib\\site-packages (from nbformat>=4.4->nbconvert->notebook-as-pdf) (3.0.2)\n",
      "Requirement already satisfied: ipython-genutils in f:\\program_files\\lib\\site-packages (from nbformat>=4.4->nbconvert->notebook-as-pdf) (0.2.0)\n",
      "Requirement already satisfied: six>=1.9.0 in f:\\program_files\\lib\\site-packages (from bleach->nbconvert->notebook-as-pdf) (1.12.0)\n",
      "Requirement already satisfied: webencodings in f:\\program_files\\lib\\site-packages (from bleach->nbconvert->notebook-as-pdf) (0.5.1)\n",
      "Requirement already satisfied: decorator in f:\\program_files\\lib\\site-packages (from traitlets>=4.2->nbconvert->notebook-as-pdf) (4.4.0)\n",
      "Requirement already satisfied: MarkupSafe>=0.23 in f:\\program_files\\lib\\site-packages (from jinja2>=2.4->nbconvert->notebook-as-pdf) (1.1.1)\n",
      "Requirement already satisfied: setuptools in f:\\program_files\\lib\\site-packages (from jsonschema!=2.5.0,>=2.4->nbformat>=4.4->nbconvert->notebook-as-pdf) (41.4.0)\n",
      "Requirement already satisfied: pyrsistent>=0.14.0 in f:\\program_files\\lib\\site-packages (from jsonschema!=2.5.0,>=2.4->nbformat>=4.4->nbconvert->notebook-as-pdf) (0.15.4)\n",
      "Requirement already satisfied: attrs>=17.4.0 in f:\\program_files\\lib\\site-packages (from jsonschema!=2.5.0,>=2.4->nbformat>=4.4->nbconvert->notebook-as-pdf) (19.2.0)\n",
      "Building wheels for collected packages: pyppeteer\n",
      "  Building wheel for pyppeteer (setup.py): started\n",
      "  Building wheel for pyppeteer (setup.py): finished with status 'done'\n",
      "  Created wheel for pyppeteer: filename=pyppeteer-0.0.25-cp37-none-any.whl size=78366 sha256=714652b8e0800fbfa72eba4e51c4bdde3187b482e016b6ae948a887d18aec88b\n",
      "  Stored in directory: C:\\Users\\Me\\AppData\\Local\\pip\\Cache\\wheels\\34\\e0\\5d\\070e22eceecf7ecd5fa4b86bbc18c1c7d0b90e02e9b57f35eb\n",
      "Successfully built pyppeteer\n",
      "Installing collected packages: pikepdf, pyee, websockets, appdirs, pyppeteer, notebook-as-pdf\n",
      "Successfully installed appdirs-1.4.3 notebook-as-pdf-0.1.0 pikepdf-1.11.1 pyee-7.0.1 pyppeteer-0.0.25 websockets-8.1\n",
      "Note: you may need to restart the kernel to use updated packages.\n"
     ]
    }
   ],
   "source": [
    "pip install notebook-as-pdf"
   ]
  },
  {
   "cell_type": "code",
   "execution_count": null,
   "metadata": {},
   "outputs": [],
   "source": []
  }
 ],
 "metadata": {
  "kernelspec": {
   "display_name": "Python 3",
   "language": "python",
   "name": "python3"
  },
  "language_info": {
   "codemirror_mode": {
    "name": "ipython",
    "version": 3
   },
   "file_extension": ".py",
   "mimetype": "text/x-python",
   "name": "python",
   "nbconvert_exporter": "python",
   "pygments_lexer": "ipython3",
   "version": "3.7.4"
  }
 },
 "nbformat": 4,
 "nbformat_minor": 2
}
